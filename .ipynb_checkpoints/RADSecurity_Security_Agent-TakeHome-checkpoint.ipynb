{
 "cells": [
  {
   "cell_type": "markdown",
   "id": "4d657162-ec5d-4672-9222-63e1117734f2",
   "metadata": {},
   "source": [
    "1. Introduction\n",
    "\n",
    "This notebook demonstrates the architecture and functionality of a CVE-aware LLM triage agent built for contextual prioritization of security incidents.\n",
    "\n",
    "- Combines semantic search over KEV, NVD, and historical triage records\n",
    "- Uses an MCP tool-exposing agent to make structured, parsable LLM calls\n",
    "- Maintains runtime metrics, batched execution, and persistent historical context\n",
    "\n",
    "Why we do this:\n",
    "Establishes the overall motivation and scope before diving into implementation. Helps readers orient themselves to why each later component exists.\n",
    "Goal: Build a CVE-analysis agent for contextual security triage.\n",
    "Setup: Jupyter notebook, Python 3.10+, Redis via Docker, .env file with OPENAI_API_KEY.\n"
   ]
  },
  {
   "cell_type": "code",
   "execution_count": 3,
   "id": "92563e9b-8a03-4b0f-af1b-8c19ca5f309e",
   "metadata": {
    "scrolled": true
   },
   "outputs": [
    {
     "name": "stdout",
     "output_type": "stream",
     "text": [
      "Defaulting to user installation because normal site-packages is not writeable\n",
      "Looking in indexes: https://pypi.org/simple, https://pypi.ngc.nvidia.com\n",
      "Requirement already satisfied: asyncio>=3.4.3 in c:\\users\\dan guilliams\\appdata\\roaming\\python\\python312\\site-packages (from -r requirements.txt (line 1)) (3.4.3)\n",
      "Requirement already satisfied: faiss-cpu>=1.11.0 in c:\\users\\dan guilliams\\appdata\\roaming\\python\\python312\\site-packages (from -r requirements.txt (line 2)) (1.11.0)\n",
      "Requirement already satisfied: fastmcp>=2.3.3 in c:\\users\\dan guilliams\\appdata\\roaming\\python\\python312\\site-packages (from -r requirements.txt (line 3)) (2.3.3)\n",
      "Requirement already satisfied: httpx>=0.28.1 in c:\\users\\dan guilliams\\appdata\\roaming\\python\\python312\\site-packages (from -r requirements.txt (line 4)) (0.28.1)\n",
      "Requirement already satisfied: langchain>=0.3.25 in c:\\users\\dan guilliams\\appdata\\roaming\\python\\python312\\site-packages (from -r requirements.txt (line 5)) (0.3.25)\n",
      "Requirement already satisfied: langchain-mcp-adapters>=0.0.11 in c:\\users\\dan guilliams\\appdata\\roaming\\python\\python312\\site-packages (from -r requirements.txt (line 6)) (0.0.11)\n",
      "Requirement already satisfied: langchain-openai>=0.3.16 in c:\\users\\dan guilliams\\appdata\\roaming\\python\\python312\\site-packages (from -r requirements.txt (line 7)) (0.3.16)\n",
      "Requirement already satisfied: langgraph>=0.4.3 in c:\\users\\dan guilliams\\appdata\\roaming\\python\\python312\\site-packages (from -r requirements.txt (line 8)) (0.4.3)\n",
      "Requirement already satisfied: mcp>=1.8.1 in c:\\users\\dan guilliams\\appdata\\roaming\\python\\python312\\site-packages (from mcp[cli]>=1.8.1->-r requirements.txt (line 9)) (1.8.1)\n",
      "Requirement already satisfied: openai>=1.78.1 in c:\\users\\dan guilliams\\appdata\\roaming\\python\\python312\\site-packages (from -r requirements.txt (line 10)) (1.79.0)\n",
      "Requirement already satisfied: orjson>=3.10.18 in c:\\users\\dan guilliams\\appdata\\roaming\\python\\python312\\site-packages (from -r requirements.txt (line 11)) (3.10.18)\n",
      "Requirement already satisfied: pytest>=8.3.5 in c:\\users\\dan guilliams\\appdata\\roaming\\python\\python312\\site-packages (from -r requirements.txt (line 12)) (8.3.5)\n",
      "Requirement already satisfied: python-dotenv>=1.1.0 in c:\\users\\dan guilliams\\appdata\\roaming\\python\\python312\\site-packages (from -r requirements.txt (line 13)) (1.1.0)\n",
      "Requirement already satisfied: tiktoken>=0.9.0 in c:\\users\\dan guilliams\\appdata\\roaming\\python\\python312\\site-packages (from -r requirements.txt (line 14)) (0.9.0)\n",
      "Requirement already satisfied: yfinance>=0.2.61 in c:\\users\\dan guilliams\\appdata\\roaming\\python\\python312\\site-packages (from -r requirements.txt (line 15)) (0.2.61)\n",
      "Requirement already satisfied: numpy<3.0,>=1.25.0 in c:\\users\\dan guilliams\\appdata\\roaming\\python\\python312\\site-packages (from faiss-cpu>=1.11.0->-r requirements.txt (line 2)) (2.1.3)\n",
      "Requirement already satisfied: packaging in c:\\users\\dan guilliams\\appdata\\roaming\\python\\python312\\site-packages (from faiss-cpu>=1.11.0->-r requirements.txt (line 2)) (24.2)\n",
      "Requirement already satisfied: exceptiongroup>=1.2.2 in c:\\users\\dan guilliams\\appdata\\roaming\\python\\python312\\site-packages (from fastmcp>=2.3.3->-r requirements.txt (line 3)) (1.3.0)\n",
      "Requirement already satisfied: openapi-pydantic>=0.5.1 in c:\\users\\dan guilliams\\appdata\\roaming\\python\\python312\\site-packages (from fastmcp>=2.3.3->-r requirements.txt (line 3)) (0.5.1)\n",
      "Requirement already satisfied: rich>=13.9.4 in c:\\users\\dan guilliams\\appdata\\roaming\\python\\python312\\site-packages (from fastmcp>=2.3.3->-r requirements.txt (line 3)) (13.9.4)\n",
      "Requirement already satisfied: typer>=0.15.2 in c:\\users\\dan guilliams\\appdata\\roaming\\python\\python312\\site-packages (from fastmcp>=2.3.3->-r requirements.txt (line 3)) (0.15.3)\n",
      "Requirement already satisfied: websockets>=14.0 in c:\\users\\dan guilliams\\appdata\\roaming\\python\\python312\\site-packages (from fastmcp>=2.3.3->-r requirements.txt (line 3)) (15.0.1)\n",
      "Requirement already satisfied: anyio in c:\\users\\dan guilliams\\appdata\\roaming\\python\\python312\\site-packages (from httpx>=0.28.1->-r requirements.txt (line 4)) (4.9.0)\n",
      "Requirement already satisfied: certifi in c:\\users\\dan guilliams\\appdata\\roaming\\python\\python312\\site-packages (from httpx>=0.28.1->-r requirements.txt (line 4)) (2025.1.31)\n",
      "Requirement already satisfied: httpcore==1.* in c:\\users\\dan guilliams\\appdata\\roaming\\python\\python312\\site-packages (from httpx>=0.28.1->-r requirements.txt (line 4)) (1.0.9)\n",
      "Requirement already satisfied: idna in c:\\users\\dan guilliams\\appdata\\roaming\\python\\python312\\site-packages (from httpx>=0.28.1->-r requirements.txt (line 4)) (3.10)\n",
      "Requirement already satisfied: h11>=0.16 in c:\\users\\dan guilliams\\appdata\\roaming\\python\\python312\\site-packages (from httpcore==1.*->httpx>=0.28.1->-r requirements.txt (line 4)) (0.16.0)\n",
      "Requirement already satisfied: langchain-core<1.0.0,>=0.3.58 in c:\\users\\dan guilliams\\appdata\\roaming\\python\\python312\\site-packages (from langchain>=0.3.25->-r requirements.txt (line 5)) (0.3.59)\n",
      "Requirement already satisfied: langchain-text-splitters<1.0.0,>=0.3.8 in c:\\users\\dan guilliams\\appdata\\roaming\\python\\python312\\site-packages (from langchain>=0.3.25->-r requirements.txt (line 5)) (0.3.8)\n",
      "Requirement already satisfied: langsmith<0.4,>=0.1.17 in c:\\users\\dan guilliams\\appdata\\roaming\\python\\python312\\site-packages (from langchain>=0.3.25->-r requirements.txt (line 5)) (0.3.37)\n",
      "Requirement already satisfied: pydantic<3.0.0,>=2.7.4 in c:\\users\\dan guilliams\\appdata\\roaming\\python\\python312\\site-packages (from langchain>=0.3.25->-r requirements.txt (line 5)) (2.11.3)\n",
      "Requirement already satisfied: SQLAlchemy<3,>=1.4 in c:\\users\\dan guilliams\\appdata\\roaming\\python\\python312\\site-packages (from langchain>=0.3.25->-r requirements.txt (line 5)) (2.0.37)\n",
      "Requirement already satisfied: requests<3,>=2 in c:\\users\\dan guilliams\\appdata\\roaming\\python\\python312\\site-packages (from langchain>=0.3.25->-r requirements.txt (line 5)) (2.32.3)\n",
      "Requirement already satisfied: PyYAML>=5.3 in c:\\users\\dan guilliams\\appdata\\roaming\\python\\python312\\site-packages (from langchain>=0.3.25->-r requirements.txt (line 5)) (6.0.2)\n",
      "Requirement already satisfied: langgraph-checkpoint<3.0.0,>=2.0.10 in c:\\users\\dan guilliams\\appdata\\roaming\\python\\python312\\site-packages (from langgraph>=0.4.3->-r requirements.txt (line 8)) (2.0.25)\n",
      "Requirement already satisfied: langgraph-prebuilt>=0.1.8 in c:\\users\\dan guilliams\\appdata\\roaming\\python\\python312\\site-packages (from langgraph>=0.4.3->-r requirements.txt (line 8)) (0.1.8)\n",
      "Requirement already satisfied: langgraph-sdk>=0.1.42 in c:\\users\\dan guilliams\\appdata\\roaming\\python\\python312\\site-packages (from langgraph>=0.4.3->-r requirements.txt (line 8)) (0.1.69)\n",
      "Requirement already satisfied: xxhash<4.0.0,>=3.5.0 in c:\\users\\dan guilliams\\appdata\\roaming\\python\\python312\\site-packages (from langgraph>=0.4.3->-r requirements.txt (line 8)) (3.5.0)\n",
      "Requirement already satisfied: httpx-sse>=0.4 in c:\\users\\dan guilliams\\appdata\\roaming\\python\\python312\\site-packages (from mcp>=1.8.1->mcp[cli]>=1.8.1->-r requirements.txt (line 9)) (0.4.0)\n",
      "Requirement already satisfied: pydantic-settings>=2.5.2 in c:\\users\\dan guilliams\\appdata\\roaming\\python\\python312\\site-packages (from mcp>=1.8.1->mcp[cli]>=1.8.1->-r requirements.txt (line 9)) (2.9.1)\n",
      "Requirement already satisfied: python-multipart>=0.0.9 in c:\\users\\dan guilliams\\appdata\\roaming\\python\\python312\\site-packages (from mcp>=1.8.1->mcp[cli]>=1.8.1->-r requirements.txt (line 9)) (0.0.20)\n",
      "Requirement already satisfied: sse-starlette>=1.6.1 in c:\\users\\dan guilliams\\appdata\\roaming\\python\\python312\\site-packages (from mcp>=1.8.1->mcp[cli]>=1.8.1->-r requirements.txt (line 9)) (2.3.5)\n",
      "Requirement already satisfied: starlette>=0.27 in c:\\users\\dan guilliams\\appdata\\roaming\\python\\python312\\site-packages (from mcp>=1.8.1->mcp[cli]>=1.8.1->-r requirements.txt (line 9)) (0.46.2)\n",
      "Requirement already satisfied: uvicorn>=0.23.1 in c:\\users\\dan guilliams\\appdata\\roaming\\python\\python312\\site-packages (from mcp>=1.8.1->mcp[cli]>=1.8.1->-r requirements.txt (line 9)) (0.34.2)\n",
      "Requirement already satisfied: distro<2,>=1.7.0 in c:\\users\\dan guilliams\\appdata\\roaming\\python\\python312\\site-packages (from openai>=1.78.1->-r requirements.txt (line 10)) (1.9.0)\n",
      "Requirement already satisfied: jiter<1,>=0.4.0 in c:\\users\\dan guilliams\\appdata\\roaming\\python\\python312\\site-packages (from openai>=1.78.1->-r requirements.txt (line 10)) (0.9.0)\n",
      "Requirement already satisfied: sniffio in c:\\users\\dan guilliams\\appdata\\roaming\\python\\python312\\site-packages (from openai>=1.78.1->-r requirements.txt (line 10)) (1.3.1)\n",
      "Requirement already satisfied: tqdm>4 in c:\\users\\dan guilliams\\appdata\\roaming\\python\\python312\\site-packages (from openai>=1.78.1->-r requirements.txt (line 10)) (4.67.1)\n",
      "Requirement already satisfied: typing-extensions<5,>=4.11 in c:\\users\\dan guilliams\\appdata\\roaming\\python\\python312\\site-packages (from openai>=1.78.1->-r requirements.txt (line 10)) (4.12.2)\n",
      "Requirement already satisfied: colorama in c:\\users\\dan guilliams\\appdata\\roaming\\python\\python312\\site-packages (from pytest>=8.3.5->-r requirements.txt (line 12)) (0.4.6)\n",
      "Requirement already satisfied: iniconfig in c:\\users\\dan guilliams\\appdata\\roaming\\python\\python312\\site-packages (from pytest>=8.3.5->-r requirements.txt (line 12)) (2.1.0)\n",
      "Requirement already satisfied: pluggy<2,>=1.5 in c:\\users\\dan guilliams\\appdata\\roaming\\python\\python312\\site-packages (from pytest>=8.3.5->-r requirements.txt (line 12)) (1.6.0)\n",
      "Requirement already satisfied: regex>=2022.1.18 in c:\\users\\dan guilliams\\appdata\\roaming\\python\\python312\\site-packages (from tiktoken>=0.9.0->-r requirements.txt (line 14)) (2024.11.6)\n",
      "Requirement already satisfied: pandas>=1.3.0 in c:\\users\\dan guilliams\\appdata\\roaming\\python\\python312\\site-packages (from yfinance>=0.2.61->-r requirements.txt (line 15)) (2.2.3)\n",
      "Requirement already satisfied: multitasking>=0.0.7 in c:\\users\\dan guilliams\\appdata\\roaming\\python\\python312\\site-packages (from yfinance>=0.2.61->-r requirements.txt (line 15)) (0.0.11)\n",
      "Requirement already satisfied: platformdirs>=2.0.0 in c:\\users\\dan guilliams\\appdata\\roaming\\python\\python312\\site-packages (from yfinance>=0.2.61->-r requirements.txt (line 15)) (4.3.7)\n",
      "Requirement already satisfied: pytz>=2022.5 in c:\\users\\dan guilliams\\appdata\\roaming\\python\\python312\\site-packages (from yfinance>=0.2.61->-r requirements.txt (line 15)) (2025.1)\n",
      "Requirement already satisfied: frozendict>=2.3.4 in c:\\users\\dan guilliams\\appdata\\roaming\\python\\python312\\site-packages (from yfinance>=0.2.61->-r requirements.txt (line 15)) (2.4.6)\n",
      "Requirement already satisfied: peewee>=3.16.2 in c:\\users\\dan guilliams\\appdata\\roaming\\python\\python312\\site-packages (from yfinance>=0.2.61->-r requirements.txt (line 15)) (3.18.1)\n",
      "Requirement already satisfied: beautifulsoup4>=4.11.1 in c:\\users\\dan guilliams\\appdata\\roaming\\python\\python312\\site-packages (from yfinance>=0.2.61->-r requirements.txt (line 15)) (4.13.4)\n",
      "Requirement already satisfied: curl_cffi>=0.7 in c:\\users\\dan guilliams\\appdata\\roaming\\python\\python312\\site-packages (from yfinance>=0.2.61->-r requirements.txt (line 15)) (0.11.0)\n",
      "Requirement already satisfied: protobuf>=3.19.0 in c:\\users\\dan guilliams\\appdata\\roaming\\python\\python312\\site-packages (from yfinance>=0.2.61->-r requirements.txt (line 15)) (5.29.3)\n",
      "Requirement already satisfied: soupsieve>1.2 in c:\\users\\dan guilliams\\appdata\\roaming\\python\\python312\\site-packages (from beautifulsoup4>=4.11.1->yfinance>=0.2.61->-r requirements.txt (line 15)) (2.7)\n",
      "Requirement already satisfied: cffi>=1.12.0 in c:\\users\\dan guilliams\\appdata\\roaming\\python\\python312\\site-packages (from curl_cffi>=0.7->yfinance>=0.2.61->-r requirements.txt (line 15)) (1.17.1)\n",
      "Requirement already satisfied: tenacity!=8.4.0,<10.0.0,>=8.1.0 in c:\\users\\dan guilliams\\appdata\\roaming\\python\\python312\\site-packages (from langchain-core<1.0.0,>=0.3.58->langchain>=0.3.25->-r requirements.txt (line 5)) (9.1.2)\n",
      "Requirement already satisfied: jsonpatch<2.0,>=1.33 in c:\\users\\dan guilliams\\appdata\\roaming\\python\\python312\\site-packages (from langchain-core<1.0.0,>=0.3.58->langchain>=0.3.25->-r requirements.txt (line 5)) (1.33)\n",
      "Requirement already satisfied: ormsgpack<2.0.0,>=1.8.0 in c:\\users\\dan guilliams\\appdata\\roaming\\python\\python312\\site-packages (from langgraph-checkpoint<3.0.0,>=2.0.10->langgraph>=0.4.3->-r requirements.txt (line 8)) (1.9.1)\n",
      "Requirement already satisfied: requests-toolbelt<2.0.0,>=1.0.0 in c:\\users\\dan guilliams\\appdata\\roaming\\python\\python312\\site-packages (from langsmith<0.4,>=0.1.17->langchain>=0.3.25->-r requirements.txt (line 5)) (1.0.0)\n",
      "Requirement already satisfied: zstandard<0.24.0,>=0.23.0 in c:\\users\\dan guilliams\\appdata\\roaming\\python\\python312\\site-packages (from langsmith<0.4,>=0.1.17->langchain>=0.3.25->-r requirements.txt (line 5)) (0.23.0)\n",
      "Requirement already satisfied: python-dateutil>=2.8.2 in c:\\users\\dan guilliams\\appdata\\roaming\\python\\python312\\site-packages (from pandas>=1.3.0->yfinance>=0.2.61->-r requirements.txt (line 15)) (2.9.0.post0)\n",
      "Requirement already satisfied: tzdata>=2022.7 in c:\\users\\dan guilliams\\appdata\\roaming\\python\\python312\\site-packages (from pandas>=1.3.0->yfinance>=0.2.61->-r requirements.txt (line 15)) (2025.1)\n",
      "Requirement already satisfied: annotated-types>=0.6.0 in c:\\users\\dan guilliams\\appdata\\roaming\\python\\python312\\site-packages (from pydantic<3.0.0,>=2.7.4->langchain>=0.3.25->-r requirements.txt (line 5)) (0.7.0)\n",
      "Requirement already satisfied: pydantic-core==2.33.1 in c:\\users\\dan guilliams\\appdata\\roaming\\python\\python312\\site-packages (from pydantic<3.0.0,>=2.7.4->langchain>=0.3.25->-r requirements.txt (line 5)) (2.33.1)\n",
      "Requirement already satisfied: typing-inspection>=0.4.0 in c:\\users\\dan guilliams\\appdata\\roaming\\python\\python312\\site-packages (from pydantic<3.0.0,>=2.7.4->langchain>=0.3.25->-r requirements.txt (line 5)) (0.4.0)\n",
      "Requirement already satisfied: charset-normalizer<4,>=2 in c:\\users\\dan guilliams\\appdata\\roaming\\python\\python312\\site-packages (from requests<3,>=2->langchain>=0.3.25->-r requirements.txt (line 5)) (3.4.1)\n",
      "Requirement already satisfied: urllib3<3,>=1.21.1 in c:\\users\\dan guilliams\\appdata\\roaming\\python\\python312\\site-packages (from requests<3,>=2->langchain>=0.3.25->-r requirements.txt (line 5)) (1.26.20)\n",
      "Requirement already satisfied: markdown-it-py>=2.2.0 in c:\\users\\dan guilliams\\appdata\\roaming\\python\\python312\\site-packages (from rich>=13.9.4->fastmcp>=2.3.3->-r requirements.txt (line 3)) (3.0.0)\n",
      "Requirement already satisfied: pygments<3.0.0,>=2.13.0 in c:\\users\\dan guilliams\\appdata\\roaming\\python\\python312\\site-packages (from rich>=13.9.4->fastmcp>=2.3.3->-r requirements.txt (line 3)) (2.19.1)\n",
      "Requirement already satisfied: greenlet!=0.4.17 in c:\\users\\dan guilliams\\appdata\\roaming\\python\\python312\\site-packages (from SQLAlchemy<3,>=1.4->langchain>=0.3.25->-r requirements.txt (line 5)) (3.1.1)\n",
      "Requirement already satisfied: click>=8.0.0 in c:\\users\\dan guilliams\\appdata\\roaming\\python\\python312\\site-packages (from typer>=0.15.2->fastmcp>=2.3.3->-r requirements.txt (line 3)) (8.1.8)\n",
      "Requirement already satisfied: shellingham>=1.3.0 in c:\\users\\dan guilliams\\appdata\\roaming\\python\\python312\\site-packages (from typer>=0.15.2->fastmcp>=2.3.3->-r requirements.txt (line 3)) (1.5.4)\n",
      "Requirement already satisfied: pycparser in c:\\users\\dan guilliams\\appdata\\roaming\\python\\python312\\site-packages (from cffi>=1.12.0->curl_cffi>=0.7->yfinance>=0.2.61->-r requirements.txt (line 15)) (2.22)\n",
      "Requirement already satisfied: jsonpointer>=1.9 in c:\\users\\dan guilliams\\appdata\\roaming\\python\\python312\\site-packages (from jsonpatch<2.0,>=1.33->langchain-core<1.0.0,>=0.3.58->langchain>=0.3.25->-r requirements.txt (line 5)) (3.0.0)\n",
      "Requirement already satisfied: mdurl~=0.1 in c:\\users\\dan guilliams\\appdata\\roaming\\python\\python312\\site-packages (from markdown-it-py>=2.2.0->rich>=13.9.4->fastmcp>=2.3.3->-r requirements.txt (line 3)) (0.1.2)\n",
      "Requirement already satisfied: six>=1.5 in c:\\users\\dan guilliams\\appdata\\roaming\\python\\python312\\site-packages (from python-dateutil>=2.8.2->pandas>=1.3.0->yfinance>=0.2.61->-r requirements.txt (line 15)) (1.17.0)\n"
     ]
    },
    {
     "name": "stderr",
     "output_type": "stream",
     "text": [
      "\n",
      "[notice] A new release of pip is available: 25.0 -> 25.1.1\n",
      "[notice] To update, run: C:\\Python312\\python.exe -m pip install --upgrade pip\n"
     ]
    }
   ],
   "source": [
    "# Install dependencies\n",
    "# Why we do this:\n",
    "# Ensures all required Python packages are available in the current environment. This makes the notebook reproducible by others or on fresh systems.\n",
    "!pip install -r requirements.txt"
   ]
  },
  {
   "cell_type": "markdown",
   "id": "4f9fa32f-07fa-4113-a63c-9127ab1eff96",
   "metadata": {},
   "source": [
    "# 2. Start Redis (for idempotency cache)\n",
    "\n",
    "Redis is used by the FastAPI server for request ID deduplication and idempotency protection. Running it locally ensures the pipeline behaves consistently and avoids redundant processing."
   ]
  },
  {
   "cell_type": "code",
   "execution_count": 6,
   "id": "821835c0-5a57-4b51-91e1-180a58d43d9e",
   "metadata": {
    "collapsed": true,
    "jupyter": {
     "outputs_hidden": true
    },
    "scrolled": true
   },
   "outputs": [
    {
     "name": "stderr",
     "output_type": "stream",
     "text": [
      "Unable to find image 'redis:latest' locally\n",
      "latest: Pulling from library/redis\n",
      "d76f79e53729: Pulling fs layer\n",
      "4f4fb700ef54: Pulling fs layer\n",
      "73134d65a174: Pulling fs layer\n",
      "e09c770fca85: Pulling fs layer\n",
      "6162363dcb24: Pulling fs layer\n",
      "d6b0a8fda729: Pulling fs layer\n",
      "4f4fb700ef54: Already exists\n",
      "6162363dcb24: Download complete\n",
      "d6b0a8fda729: Download complete\n",
      "e09c770fca85: Download complete\n",
      "d6b0a8fda729: Pull complete\n",
      "e09c770fca85: Pull complete\n",
      "73134d65a174: Download complete\n",
      "d76f79e53729: Download complete\n",
      "d76f79e53729: Pull complete\n",
      "4f4fb700ef54: Pull complete\n",
      "6162363dcb24: Pull complete\n",
      "73134d65a174: Pull complete\n",
      "Digest: sha256:1b7c17f650602d97a10724d796f45f0b5250d47ee5ba02f28de89f8a1531f3ce\n",
      "Status: Downloaded newer image for redis:latest\n",
      "docker: Error response from daemon: Conflict. The container name \"/local-redis\" is already in use by container \"d7532e8e07eda16696991be756f16a983f49b82035ed57a286f0bc5f0aaafb22\". You have to remove (or rename) that container to be able to reuse that name.\n",
      "\n",
      "Run 'docker run --help' for more information\n"
     ]
    }
   ],
   "source": [
    "# Start Docker Service for Redis:\n",
    "!docker run -d --name local-redis -p 6379:6379 redis:latest"
   ]
  },
  {
   "cell_type": "markdown",
   "id": "cb242915-b74b-414b-a5d3-016a4c4d5784",
   "metadata": {
    "jupyter": {
     "source_hidden": true
    }
   },
   "source": [
    "3. Project Structure\n",
    "\n",
    "Display top-level tree\n",
    "Why we do this:\n",
    "Helps both the developer and the reader understand the overall folder and file layout of the project. This is especially useful for mapping file roles to architectural components.\n",
    "\n",
    ".\n",
    "├── AI Engineer Take-Home Exercise_ Gen AI Agent for Contextual CVE Analysis.pdf\n",
    "├── Context Summaries\n",
    "├── RADSecurity_Security_Agent-TakeHome.ipynb\n",
    "├── README.md\n",
    "├── README_GEMINI.md\n",
    "├── __init__.py\n",
    "├── __pycache__\n",
    "├── archive\n",
    "├── data\n",
    "│   ├── dummy_agent_incident_analyses.json # Synthetic incident analyses for demo's sake\n",
    "│   ├── dummy_incidents.json # Synthetic historical incidents for demo's sake\n",
    "│   ├── incident_analysis.db # SQLite database\n",
    "│   ├── incidents.json # Actual input data, from RAD Security\n",
    "│   ├── kev.json # Retrieved data via setup/download_cve_data.py\n",
    "│   ├── nvd_subset.json # Isolated data via setup/download_cve_data.py\n",
    "│   ├── nvdcve-1.1-2025.json # Uzipped via setup/download_cve_data.py\n",
    "│   ├── nvdcve-1.1-2025.json.zip # Retrieved data via setup/download_cve_data.py\n",
    "│   └── vectorstore # FAISS indexes\n",
    "│       ├── historical_incidents # Dummy historical incidents + actual incidents (added upon analysis)\n",
    "│       │   ├── index.faiss\n",
    "│       │   └── index.pkl\n",
    "│       ├── kev # Generated KEV data index\n",
    "│       │   ├── index.faiss\n",
    "│       │   └── index.pkl\n",
    "│       └── nvd # NVD data index\n",
    "│           ├── index.faiss\n",
    "│           └── index.pkl\n",
    "├── dev\n",
    "│   ├── incident_dashboard.py # Streamlit app to view SQLite database\n",
    "│   └── query_db.py # Helper to query SQLite database\n",
    "├── examples # Posterity, early experiments with MCP server usage\n",
    "├── experimental # Posterity, early experiments with agents using MCP tools\n",
    "├── logs\n",
    "│   ├── server.log\n",
    "│   └── timing_metrics.log\n",
    "├── main_security_agent_server.py # FastAPI server, hostss the main agent/LLM logic\n",
    "├── mcp_cve_server.py # Hosts the tools used by the agent, called as a subprocess in main_security_agent_server.py\n",
    "├── pyproject.toml\n",
    "├── pytest.ini\n",
    "├── requirements.txt\n",
    "├── run_analysis.py # Main script to run the analysis, calls main_security_agent_server.py asynchronously\n",
    "├── setup\n",
    "│   ├── build_dummy_analyses_index.py # Builds the dummy analyses index\n",
    "│   ├── build_faiss_KEV_and_NVD_indexes.py # Builds the KEV and NVD indexes\n",
    "│   ├── build_historical_incident_analyses_index.py # Builds the historical incidents index\n",
    "│   ├── download_cve_data.py # Downloads the CVE data\n",
    "│   └── README.md # General instructions for initial setup\n",
    "├── tests # Optional, helpful in early discovery and development\n",
    "│   ├── __init__.py\n",
    "│   ├── __pycache__\n",
    "│   ├── test_decorators.py\n",
    "│   └── test_mcp_cve_server.py\n",
    "├── tree_structure.txt # This file for sanity's sake\n",
    "├── utils # Main utility functions that power the project\n",
    "│   ├── __init__.py\n",
    "│   ├── __pycache__\n",
    "│   ├── datastore_utils.py\n",
    "│   ├── decorators.py\n",
    "│   ├── flatteners.py\n",
    "│   ├── logging_utils.py\n",
    "│   ├── prompt_utils.py\n",
    "│   └── retrieval_utils.py\n",
    "└── uv.lock\n",
    "\n"
   ]
  },
  {
   "cell_type": "markdown",
   "id": "5e69e60c-8ee0-45b1-8554-620229ddf5b0",
   "metadata": {},
   "source": [
    "4. Data Ingestion\n",
    "\n",
    "Load and inspect incidents.json\n",
    "Why we do this:\n",
    "Verifies the most essential input dataset is present, correctly formatted, and structured. This provides a foundation for downstream processing like semantic search and matching.\n"
   ]
  },
  {
   "cell_type": "code",
   "execution_count": 9,
   "id": "e8ed9439-f5d7-42c4-af97-dd963256293d",
   "metadata": {},
   "outputs": [
    {
     "name": "stdout",
     "output_type": "stream",
     "text": [
      "Total incidents: 39\n",
      "Fields in first incident: ['incident_id', 'timestamp', 'title', 'description', 'affected_assets', 'observed_ttps', 'indicators_of_compromise', 'initial_findings']\n"
     ]
    }
   ],
   "source": [
    "import json\n",
    "from pathlib import Path\n",
    "\n",
    "data_dir = Path('data')\n",
    "with open(data_dir / 'incidents.json') as f:\n",
    "    incidents = json.load(f)\n",
    "\n",
    "# Display number of incidents and first entry keys\n",
    "print(f\"Total incidents: {len(incidents)}\")\n",
    "print(\"Fields in first incident:\", list(incidents[0].keys()))"
   ]
  },
  {
   "cell_type": "markdown",
   "id": "ff8147ff-8b29-47c9-8cd8-3a611d8be032",
   "metadata": {},
   "source": [
    "Next Steps:\n",
    "- Run `setup/download_cve_data.py` to pull KEV and NVD feeds\n",
    "- Preview kev.json and nvd_subset.json"
   ]
  },
  {
   "cell_type": "code",
   "execution_count": 10,
   "id": "87aeecde-d6ae-4ea2-adde-44d90e8ca178",
   "metadata": {},
   "outputs": [
    {
     "name": "stdout",
     "output_type": "stream",
     "text": [
      "KEV entries: 1342\n"
     ]
    }
   ],
   "source": [
    "# Example: load kev.json\n",
    "# Why we do this:\n",
    "# The KEV file contains the CISA Known Exploited Vulnerabilities. Ensuring this loads correctly means the semantic index will have meaningful input to match against.\n",
    "with open(data_dir / 'kev.json') as f:\n",
    "    kev = json.load(f)\n",
    "print(f\"KEV entries: {len(kev.get('vulnerabilities', []))}\")"
   ]
  },
  {
   "cell_type": "code",
   "execution_count": 15,
   "id": "5e4a6195-1610-4321-b523-b7575e1c6b7a",
   "metadata": {},
   "outputs": [
    {
     "name": "stdout",
     "output_type": "stream",
     "text": [
      "NVD subset CVEs: 3062\n"
     ]
    }
   ],
   "source": [
    "# Example: load nvd_subset.json\n",
    "# Why we do this:\n",
    "# The NVD subset is a filtered snapshot of a much larger feed. We load it to confirm we have a valid, scoped data source for broader CVE coverage beyond KEV.\n",
    "with open(data_dir / 'nvd_subset.json') as f:\n",
    "    nvd_subset = json.load(f)\n",
    "print(f\"NVD subset CVEs: {len(nvd_subset)}\")"
   ]
  },
  {
   "cell_type": "markdown",
   "id": "6ad3f50c-c59a-48e1-aa43-0d4a93570868",
   "metadata": {},
   "source": [
    "5. Index Construction & Semantic Retrieval\n",
    "\n",
    "In this section, we build and verify the FAISS indexes for KEV, NVD, and historical data, then demonstrate semantic search.\n",
    "This shows the robustness of our retrieval layer and ensures the agent has high-signal context."
   ]
  },
  {
   "cell_type": "code",
   "execution_count": 16,
   "id": "66e13a74-4e02-4a2c-acb0-f3fdd9805cf2",
   "metadata": {},
   "outputs": [
    {
     "ename": "AttributeError",
     "evalue": "'OutStream' object has no attribute 'reconfigure'",
     "output_type": "error",
     "traceback": [
      "\u001b[31m---------------------------------------------------------------------------\u001b[39m",
      "\u001b[31mAttributeError\u001b[39m                            Traceback (most recent call last)",
      "\u001b[36mCell\u001b[39m\u001b[36m \u001b[39m\u001b[32mIn[16]\u001b[39m\u001b[32m, line 2\u001b[39m\n\u001b[32m      1\u001b[39m \u001b[38;5;66;03m# 5.1 Import necessary utilities\u001b[39;00m\n\u001b[32m----> \u001b[39m\u001b[32m2\u001b[39m \u001b[38;5;28;01mfrom\u001b[39;00m\u001b[38;5;250m \u001b[39m\u001b[34;01mutils\u001b[39;00m\u001b[34;01m.\u001b[39;00m\u001b[34;01mflatteners\u001b[39;00m\u001b[38;5;250m \u001b[39m\u001b[38;5;28;01mimport\u001b[39;00m flatten_kev, flatten_nvd, flatten_incident\n\u001b[32m      3\u001b[39m \u001b[38;5;28;01mfrom\u001b[39;00m\u001b[38;5;250m \u001b[39m\u001b[34;01mutils\u001b[39;00m\u001b[34;01m.\u001b[39;00m\u001b[34;01mretrieval_utils\u001b[39;00m\u001b[38;5;250m \u001b[39m\u001b[38;5;28;01mimport\u001b[39;00m initialize_embeddings, initialize_indexes, _search\n\u001b[32m      4\u001b[39m \u001b[38;5;28;01mfrom\u001b[39;00m\u001b[38;5;250m \u001b[39m\u001b[34;01mlangchain\u001b[39;00m\u001b[34;01m.\u001b[39;00m\u001b[34;01mdocstore\u001b[39;00m\u001b[34;01m.\u001b[39;00m\u001b[34;01mdocument\u001b[39;00m\u001b[38;5;250m \u001b[39m\u001b[38;5;28;01mimport\u001b[39;00m Document\n",
      "\u001b[36mFile \u001b[39m\u001b[32m~\\OneDrive\\Code Projects\\MCP_Agents_RADSecurity\\utils\\__init__.py:3\u001b[39m\n\u001b[32m      1\u001b[39m \u001b[33;03m\"\"\"Utility functions and decorators for the MCP CVE Analysis system.\"\"\"\u001b[39;00m\n\u001b[32m----> \u001b[39m\u001b[32m3\u001b[39m \u001b[38;5;28;01mfrom\u001b[39;00m\u001b[38;5;250m \u001b[39m\u001b[34;01m.\u001b[39;00m\u001b[34;01mdecorators\u001b[39;00m\u001b[38;5;250m \u001b[39m\u001b[38;5;28;01mimport\u001b[39;00m timing_metric, cache_result\n\u001b[32m      5\u001b[39m __all__ = [\u001b[33m'\u001b[39m\u001b[33mtiming_metric\u001b[39m\u001b[33m'\u001b[39m, \u001b[33m'\u001b[39m\u001b[33mcache_result\u001b[39m\u001b[33m'\u001b[39m] \n",
      "\u001b[36mFile \u001b[39m\u001b[32m~\\OneDrive\\Code Projects\\MCP_Agents_RADSecurity\\utils\\decorators.py:14\u001b[39m\n\u001b[32m     11\u001b[39m \u001b[38;5;66;03m# Ensure logs directory exists\u001b[39;00m\n\u001b[32m     12\u001b[39m Path(\u001b[33m'\u001b[39m\u001b[33mlogs\u001b[39m\u001b[33m'\u001b[39m).mkdir(exist_ok=\u001b[38;5;28;01mTrue\u001b[39;00m)\n\u001b[32m---> \u001b[39m\u001b[32m14\u001b[39m logger = \u001b[43msetup_logger\u001b[49m\u001b[43m(\u001b[49m\u001b[33;43m\"\u001b[39;49m\u001b[33;43mdecorators\u001b[39;49m\u001b[33;43m\"\u001b[39;49m\u001b[43m,\u001b[49m\u001b[43m \u001b[49m\u001b[33;43m\"\u001b[39;49m\u001b[33;43mlogs/timing_metrics.log\u001b[39;49m\u001b[33;43m\"\u001b[39;49m\u001b[43m)\u001b[49m\n\u001b[32m     16\u001b[39m \u001b[38;5;28;01mdef\u001b[39;00m\u001b[38;5;250m \u001b[39m\u001b[34mtiming_metric\u001b[39m(func: Callable) -> Callable:\n\u001b[32m     17\u001b[39m \u001b[38;5;250m    \u001b[39m\u001b[33;03m\"\"\"Measure and log execution time of functions.\u001b[39;00m\n\u001b[32m     18\u001b[39m \n\u001b[32m     19\u001b[39m \u001b[33;03m    Args:\u001b[39;00m\n\u001b[32m   (...)\u001b[39m\u001b[32m     23\u001b[39m \u001b[33;03m        Wrapped function that logs timing metrics\u001b[39;00m\n\u001b[32m     24\u001b[39m \u001b[33;03m    \"\"\"\u001b[39;00m\n",
      "\u001b[36mFile \u001b[39m\u001b[32m~\\OneDrive\\Code Projects\\MCP_Agents_RADSecurity\\utils\\logging_utils.py:19\u001b[39m, in \u001b[36msetup_logger\u001b[39m\u001b[34m(name, log_file)\u001b[39m\n\u001b[32m     17\u001b[39m \u001b[38;5;28;01mif\u001b[39;00m sys.platform == \u001b[33m'\u001b[39m\u001b[33mwin32\u001b[39m\u001b[33m'\u001b[39m:\n\u001b[32m     18\u001b[39m     \u001b[38;5;28;01mimport\u001b[39;00m\u001b[38;5;250m \u001b[39m\u001b[34;01mlocale\u001b[39;00m\n\u001b[32m---> \u001b[39m\u001b[32m19\u001b[39m     \u001b[43msys\u001b[49m\u001b[43m.\u001b[49m\u001b[43mstdout\u001b[49m\u001b[43m.\u001b[49m\u001b[43mreconfigure\u001b[49m(encoding=\u001b[33m'\u001b[39m\u001b[33mutf-8\u001b[39m\u001b[33m'\u001b[39m)\n\u001b[32m     20\u001b[39m     sys.stderr.reconfigure(encoding=\u001b[33m'\u001b[39m\u001b[33mutf-8\u001b[39m\u001b[33m'\u001b[39m)\n\u001b[32m     21\u001b[39m     locale.setlocale(locale.LC_ALL, \u001b[33m'\u001b[39m\u001b[33men_US.UTF-8\u001b[39m\u001b[33m'\u001b[39m)\n",
      "\u001b[31mAttributeError\u001b[39m: 'OutStream' object has no attribute 'reconfigure'"
     ]
    }
   ],
   "source": [
    "# 5.1 Import necessary utilities\n",
    "from utils.flatteners import flatten_kev, flatten_nvd, flatten_incident\n",
    "from utils.retrieval_utils import initialize_embeddings, initialize_indexes, _search\n",
    "from langchain.docstore.document import Document\n",
    "\n",
    "# 5.2 Initialize Embeddings & Indexes\n",
    "# Why we do this:\n",
    "# Embeddings and FAISS indexes underpin retrieval-augmentation. Initializing once at startup ensures fast, consistent access during agent execution.\n",
    "\n",
    "initialize_embeddings()\n",
    "initialize_indexes()\n",
    "print(\"Embeddings and FAISS indexes initialized successfully.\")"
   ]
  },
  {
   "cell_type": "markdown",
   "id": "6aaf92ee-fa15-4492-9161-2b96523c4955",
   "metadata": {},
   "source": [
    "5.3 Inspect Flattener Outputs\n",
    "Why we do this:\n",
    "Flatteners convert complex JSON entries into embedding-ready text. Verifying these transformations ensures that our search corpus is well-formed."
   ]
  },
  {
   "cell_type": "code",
   "execution_count": null,
   "id": "ff953c44-ad5e-4794-9126-8d76e27a3cc6",
   "metadata": {},
   "outputs": [],
   "source": [
    "# Example KEV entry flattening\n",
    "sample_kev = kev.get('vulnerabilities', [])[0]\n",
    "doc_kev = flatten_kev(sample_kev)\n",
    "print(\"Flattened KEV document preview:\")\n",
    "print(doc_kev.page_content[:200], \"...\")\n",
    "\n",
    "# Example NVD entry flattening\n",
    "sample_nvd = list(nvd.values())[0]\n",
    "doc_nvd = flatten_nvd(sample_nvd)\n",
    "print(\"\n",
    "Flattened NVD document preview:\")\n",
    "print(doc_nvd.page_content[:200], \"...\")\n",
    "\n",
    "# Example Incident flattening\n",
    "doc_inc = Document(page_content=flatten_incident(incidents[0]), metadata={\"incident_id\": incidents[0][\"incident_id\"]})\n",
    "print(\"\n",
    "Flattened Incident document preview:\")\n",
    "print(doc_inc.page_content[:200], \"...\")"
   ]
  },
  {
   "cell_type": "markdown",
   "id": "20f46a70-ab52-4ffd-a76d-0f72b5d676ed",
   "metadata": {},
   "source": [
    "5.4 Perform a Semantic Search\n",
    "Why we do this:\n",
    "A simple query over KEV and NVD indexes demonstrates that our retrieval layer returns relevant results. This forms the context the agent uses for decision-making.\n"
   ]
  },
  {
   "cell_type": "code",
   "execution_count": null,
   "id": "a86a1157-8314-4205-a22e-b3740a1538a4",
   "metadata": {},
   "outputs": [],
   "source": [
    "query_text = incidents[0]['title']\n",
    "print(f\"Search query: {query_text}\")\n",
    "\n",
    "kev_results = _search(KEV_FAISS, query_text, k=3)\n",
    "print(\"Top 3 KEV matches:\")\n",
    "for r in kev_results:\n",
    "    print(f\"- {r['cve_id']} (score: {r['similarity']:.3f})\")\n",
    "\n",
    "nvd_results = _search(NVD_FAISS, query_text, k=3)\n",
    "print(\"\n",
    "Top 3 NVD matches:\")\n",
    "for r in nvd_results:\n",
    "    print(f\"- {r['cve_id']} (score: {r['similarity']:.3f})\")"
   ]
  },
  {
   "cell_type": "markdown",
   "id": "23f58863-a579-4a43-b5dd-c8ac231d902f",
   "metadata": {},
   "source": [
    "Next Steps:\n",
    "- Build historical FAISS index (with synthetic past analyses)\n",
    "- Demonstrate retrieval from history using `_search` on INCIDENT_HISTORY_FAISS\n",
    "- Proceed to configure the MCP agent with these indexes"
   ]
  },
  {
   "cell_type": "code",
   "execution_count": null,
   "id": "a0491c1e-ffb6-4532-aba0-b4a30e552908",
   "metadata": {},
   "outputs": [],
   "source": []
  },
  {
   "cell_type": "code",
   "execution_count": null,
   "id": "1a13213e-9131-4e86-870d-fdf9d456bd2f",
   "metadata": {},
   "outputs": [],
   "source": []
  },
  {
   "cell_type": "code",
   "execution_count": null,
   "id": "d4897c9c-a894-40f8-8958-6cad8319b568",
   "metadata": {},
   "outputs": [],
   "source": []
  }
 ],
 "metadata": {
  "kernelspec": {
   "display_name": "Python 3 (ipykernel)",
   "language": "python",
   "name": "python3"
  },
  "language_info": {
   "codemirror_mode": {
    "name": "ipython",
    "version": 3
   },
   "file_extension": ".py",
   "mimetype": "text/x-python",
   "name": "python",
   "nbconvert_exporter": "python",
   "pygments_lexer": "ipython3",
   "version": "3.12.6"
  }
 },
 "nbformat": 4,
 "nbformat_minor": 5
}
